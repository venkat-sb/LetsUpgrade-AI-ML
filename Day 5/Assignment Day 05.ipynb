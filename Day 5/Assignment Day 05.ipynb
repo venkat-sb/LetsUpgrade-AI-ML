{
 "cells": [
  {
   "cell_type": "markdown",
   "metadata": {},
   "source": [
    "# Question 1"
   ]
  },
  {
   "cell_type": "code",
   "execution_count": 2,
   "metadata": {},
   "outputs": [
    {
     "name": "stdout",
     "output_type": "stream",
     "text": [
      "3 5 7 11 13 17 19 23 29 31 37 41 43 47 53 59 61 67 71 73 "
     ]
    }
   ],
   "source": [
    "count = 0\n",
    "odd_prime = -1\n",
    "while count < 20:\n",
    "    is_prime = True\n",
    "    odd_prime +=2\n",
    "    for integer in range(3,odd_prime,2):\n",
    "        if odd_prime%integer == 0:\n",
    "            is_prime = False\n",
    "            break\n",
    "    if odd_prime !=1 and is_prime:\n",
    "        print(odd_prime,end=\" \")\n",
    "        count +=1\n",
    "    "
   ]
  },
  {
   "cell_type": "markdown",
   "metadata": {},
   "source": [
    "# Question 2"
   ]
  },
  {
   "cell_type": "code",
   "execution_count": null,
   "metadata": {},
   "outputs": [],
   "source": []
  },
  {
   "cell_type": "markdown",
   "metadata": {},
   "source": [
    "# Question 3"
   ]
  },
  {
   "cell_type": "code",
   "execution_count": 10,
   "metadata": {},
   "outputs": [
    {
     "name": "stdout",
     "output_type": "stream",
     "text": [
      "Enter the world:racecar\n",
      "Palindrome\n"
     ]
    }
   ],
   "source": [
    "string1=input(\"Enter the world:\")\n",
    "rev_string=string1[::-1]\n",
    "if rev_string==string1:\n",
    "    print(\"Palindrome\")\n",
    "else:\n",
    "    string2=input(\"Enter the world:\")\n",
    "    str1=sorted(string1)\n",
    "    str2=sorted(string2)\n",
    "    if str1==str2:\n",
    "        print(\"Anagrams\")\n",
    "    else:\n",
    "        print(\"None\")"
   ]
  },
  {
   "cell_type": "markdown",
   "metadata": {},
   "source": [
    "# Question 4"
   ]
  },
  {
   "cell_type": "code",
   "execution_count": 7,
   "metadata": {},
   "outputs": [
    {
     "name": "stdout",
     "output_type": "stream",
     "text": [
      "String is : Dr. Darshan Ingle @AI-ML Trainer\n",
      "After removing all special characters from the String\n",
      "Resultant string is:  drdarshaningleaimltrainer\n"
     ]
    }
   ],
   "source": [
    "def replace_char(y):\n",
    "    invalid_list = ['!','@',\"#\",\"$\",'%','^','&','*','(',')','+','_','?','.',\" \",\"-\"]\n",
    "    for i in invalid_list:\n",
    "        y = y.replace(i,'')\n",
    "        y = y.lower()\n",
    "    print(\"After removing all special characters from the String\")\n",
    "    print(\"Resultant string is: \",y)\n",
    "    \n",
    "string_5 = 'Dr. Darshan Ingle @AI-ML Trainer'\n",
    "print(\"String is :\", string_5)\n",
    "replace_char(string_5)"
   ]
  },
  {
   "cell_type": "code",
   "execution_count": null,
   "metadata": {},
   "outputs": [],
   "source": []
  }
 ],
 "metadata": {
  "kernelspec": {
   "display_name": "Python 3",
   "language": "python",
   "name": "python3"
  },
  "language_info": {
   "codemirror_mode": {
    "name": "ipython",
    "version": 3
   },
   "file_extension": ".py",
   "mimetype": "text/x-python",
   "name": "python",
   "nbconvert_exporter": "python",
   "pygments_lexer": "ipython3",
   "version": "3.7.6"
  }
 },
 "nbformat": 4,
 "nbformat_minor": 4
}
